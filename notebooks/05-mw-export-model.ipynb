{
 "cells": [
  {
   "cell_type": "code",
   "execution_count": null,
   "metadata": {},
   "outputs": [],
   "source": [
    "%load_ext autoreload\n",
    "\n",
    "%autoreload 2\n",
    "\n",
    "from IPython.core.interactiveshell import InteractiveShell\n",
    "\n",
    "InteractiveShell.ast_node_interactivity = \"all\""
   ]
  },
  {
   "cell_type": "markdown",
   "metadata": {},
   "source": [
    "# Export Model using Torch Script"
   ]
  },
  {
   "cell_type": "code",
   "execution_count": null,
   "metadata": {},
   "outputs": [],
   "source": [
    "import os\n",
    "from pathlib import Path\n",
    "\n",
    "import omegaconf\n",
    "import pyrootutils\n",
    "import torch\n",
    "from PIL import Image\n",
    "from torchvision.transforms import functional as TF\n",
    "\n",
    "from gaussian_denoiser import data, dncnn, transforms, utils"
   ]
  },
  {
   "cell_type": "code",
   "execution_count": null,
   "metadata": {},
   "outputs": [],
   "source": [
    "root = pyrootutils.setup_root(\n",
    "    search_from=\".\",\n",
    "    indicator=\"pyproject.toml\",\n",
    "    project_root_env_var=True,\n",
    "    dotenv=True,\n",
    "    pythonpath=False,\n",
    "    cwd=True,\n",
    ")\n",
    "\n",
    "PROJECT_ROOT = os.getenv(\"PROJECT_ROOT\")"
   ]
  },
  {
   "cell_type": "markdown",
   "metadata": {},
   "source": [
    "## Parameters"
   ]
  },
  {
   "cell_type": "code",
   "execution_count": null,
   "metadata": {},
   "outputs": [],
   "source": [
    "MODEL_PATH = Path(PROJECT_ROOT).joinpath(\"logs/train/CDnCNN-B_2024-08-13_21-00-53\")\n",
    "\n",
    "CFG_PATH = MODEL_PATH.joinpath(\".hydra/config.yaml\")\n",
    "\n",
    "TEST_DATA = Path(PROJECT_ROOT)\n",
    "\n",
    "DEVICE = \"cpu\"\n",
    "\n",
    "SAVE_PATH = \"models/test.pt\"\n",
    "TEST_IMAGE = \"docs/cactus.jpg\"\n",
    "\n",
    "DEVICE = \"cpu\""
   ]
  },
  {
   "cell_type": "code",
   "execution_count": null,
   "metadata": {},
   "outputs": [],
   "source": [
    "cfg = omegaconf.OmegaConf.load(CFG_PATH)\n",
    "PATCH_SIZE = cfg.experiment.data.patch_size"
   ]
  },
  {
   "cell_type": "markdown",
   "metadata": {},
   "source": [
    "## Export Model"
   ]
  },
  {
   "cell_type": "code",
   "execution_count": null,
   "metadata": {},
   "outputs": [],
   "source": [
    "ckpt_path_list = utils.find_all_ckpt_files(MODEL_PATH)\n",
    "ckpt_path = utils.get_ckpt(ckpt_path_list)"
   ]
  },
  {
   "cell_type": "code",
   "execution_count": null,
   "metadata": {},
   "outputs": [],
   "source": [
    "model = dncnn.DnCNNModule.load_from_checkpoint(ckpt_path)"
   ]
  },
  {
   "cell_type": "code",
   "execution_count": null,
   "metadata": {},
   "outputs": [],
   "source": [
    "compiled_model = model.to_torchscript()"
   ]
  },
  {
   "cell_type": "code",
   "execution_count": null,
   "metadata": {},
   "outputs": [],
   "source": [
    "save_path = Path(PROJECT_ROOT).joinpath(SAVE_PATH)\n",
    "compiled_model.save(save_path)"
   ]
  },
  {
   "cell_type": "markdown",
   "metadata": {},
   "source": [
    "## Load Model"
   ]
  },
  {
   "cell_type": "code",
   "execution_count": null,
   "metadata": {},
   "outputs": [],
   "source": [
    "loaded_model = torch.jit.load(SAVE_PATH)"
   ]
  },
  {
   "cell_type": "code",
   "execution_count": null,
   "metadata": {},
   "outputs": [],
   "source": [
    "test_image_path = Path(PROJECT_ROOT).joinpath(TEST_IMAGE)\n",
    "\n",
    "test_image = Image.open(test_image_path)\n",
    "\n",
    "test_image.thumbnail((1024, 1024))\n",
    "test_image\n",
    "test_image.size"
   ]
  },
  {
   "cell_type": "code",
   "execution_count": null,
   "metadata": {},
   "outputs": [],
   "source": [
    "loaded_model = loaded_model.to(DEVICE).eval()\n",
    "model = model.to(\"cpu\").eval()\n",
    "with torch.no_grad():\n",
    "    x = TF.to_tensor(test_image).unsqueeze(0)\n",
    "    outputs = loaded_model(x)\n",
    "    output_orig = model(x)"
   ]
  },
  {
   "cell_type": "code",
   "execution_count": null,
   "metadata": {},
   "outputs": [],
   "source": [
    "torch.testing.assert_close(outputs, output_orig)"
   ]
  },
  {
   "cell_type": "code",
   "execution_count": null,
   "metadata": {},
   "outputs": [],
   "source": [
    "torch.min(outputs)\n",
    "torch.max(outputs)\n",
    "TF.to_pil_image(outputs.squeeze())"
   ]
  },
  {
   "cell_type": "code",
   "execution_count": null,
   "metadata": {},
   "outputs": [],
   "source": [
    "x_denoised = torch.clip(x - outputs, 0, 1)"
   ]
  },
  {
   "cell_type": "code",
   "execution_count": null,
   "metadata": {},
   "outputs": [],
   "source": [
    "TF.to_pil_image(x_denoised.squeeze(0))\n",
    "TF.to_pil_image(x.squeeze(0))"
   ]
  },
  {
   "cell_type": "markdown",
   "metadata": {},
   "source": [
    "### Patchify"
   ]
  },
  {
   "cell_type": "code",
   "execution_count": null,
   "metadata": {},
   "outputs": [],
   "source": [
    "from gaussian_denoiser import utils"
   ]
  },
  {
   "cell_type": "code",
   "execution_count": null,
   "metadata": {},
   "outputs": [],
   "source": [
    "x = TF.to_tensor(test_image)\n",
    "patches, patchify_padding = utils.patchify(x, PATCH_SIZE)\n",
    "with torch.no_grad():\n",
    "    noise_patches = loaded_model(patches)\n",
    "\n",
    "noise = utils.depatchify(\n",
    "    noise_patches, original_size=x.shape, patch_size=PATCH_SIZE, padding=patchify_padding\n",
    ")"
   ]
  },
  {
   "cell_type": "code",
   "execution_count": null,
   "metadata": {},
   "outputs": [],
   "source": [
    "TF.to_pil_image(noise)"
   ]
  },
  {
   "cell_type": "code",
   "execution_count": null,
   "metadata": {},
   "outputs": [],
   "source": [
    "import torchshow as ts\n",
    "\n",
    "ts.show(noise)"
   ]
  },
  {
   "cell_type": "code",
   "execution_count": null,
   "metadata": {},
   "outputs": [],
   "source": [
    "x_rec = torch.clip(x - noise, 0, 1)\n",
    "image_rec = TF.to_pil_image(x_rec)\n",
    "image_rec"
   ]
  },
  {
   "cell_type": "code",
   "execution_count": null,
   "metadata": {},
   "outputs": [],
   "source": [
    "torch.testing.assert_close(x_rec, x_denoised.squeeze(0))"
   ]
  },
  {
   "cell_type": "code",
   "execution_count": null,
   "metadata": {},
   "outputs": [],
   "source": []
  }
 ],
 "metadata": {
  "kernelspec": {
   "display_name": "base",
   "language": "python",
   "name": "python3"
  },
  "language_info": {
   "codemirror_mode": {
    "name": "ipython",
    "version": 3
   },
   "file_extension": ".py",
   "mimetype": "text/x-python",
   "name": "python",
   "nbconvert_exporter": "python",
   "pygments_lexer": "ipython3",
   "version": "3.11.9"
  }
 },
 "nbformat": 4,
 "nbformat_minor": 2
}
