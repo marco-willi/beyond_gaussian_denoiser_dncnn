{
 "cells": [
  {
   "cell_type": "code",
   "execution_count": null,
   "metadata": {},
   "outputs": [],
   "source": [
    "%load_ext autoreload\n",
    "\n",
    "%autoreload 2\n",
    "\n",
    "from IPython.core.interactiveshell import InteractiveShell\n",
    "\n",
    "InteractiveShell.ast_node_interactivity = \"all\""
   ]
  },
  {
   "cell_type": "markdown",
   "metadata": {},
   "source": [
    "# Test Models on Pre-Computed Testsets"
   ]
  },
  {
   "cell_type": "code",
   "execution_count": null,
   "metadata": {},
   "outputs": [],
   "source": [
    "import os\n",
    "from pathlib import Path\n",
    "\n",
    "import omegaconf\n",
    "import pyrootutils\n",
    "import torch\n",
    "import torchshow as ts\n",
    "from torch.utils.data import DataLoader\n",
    "from torchmetrics import image\n",
    "from tqdm.notebook import tqdm\n",
    "\n",
    "from gaussian_denoiser import dataset, dncnn, utils"
   ]
  },
  {
   "cell_type": "code",
   "execution_count": null,
   "metadata": {},
   "outputs": [],
   "source": [
    "root = pyrootutils.setup_root(\n",
    "    search_from=\".\",\n",
    "    indicator=\"pyproject.toml\",\n",
    "    project_root_env_var=True,\n",
    "    dotenv=True,\n",
    "    pythonpath=False,\n",
    "    cwd=True,\n",
    ")\n",
    "\n",
    "PROJECT_ROOT = os.getenv(\"PROJECT_ROOT\")"
   ]
  },
  {
   "cell_type": "markdown",
   "metadata": {},
   "source": [
    "## Parameters\n"
   ]
  },
  {
   "cell_type": "code",
   "execution_count": null,
   "metadata": {},
   "outputs": [],
   "source": [
    "MODEL_PATH = Path(PROJECT_ROOT).joinpath(\"logs/train/CDnCNN-B_2024-08-13_21-00-53\")\n",
    "\n",
    "CFG_PATH = MODEL_PATH.joinpath(\".hydra/config.yaml\")\n",
    "\n",
    "TEST_DATA = Path(PROJECT_ROOT)\n",
    "\n",
    "DEVICE = \"cpu\""
   ]
  },
  {
   "cell_type": "code",
   "execution_count": null,
   "metadata": {},
   "outputs": [],
   "source": [
    "cfg = omegaconf.OmegaConf.load(CFG_PATH)"
   ]
  },
  {
   "cell_type": "markdown",
   "metadata": {},
   "source": [
    "## Prepare Data"
   ]
  },
  {
   "cell_type": "code",
   "execution_count": null,
   "metadata": {},
   "outputs": [],
   "source": [
    "PATH_ORIGINAL = Path(PROJECT_ROOT).joinpath(cfg.datasets.cbsd68.original_path)\n",
    "PATH_NOISY = Path(PROJECT_ROOT).joinpath(cfg.datasets.cbsd68.noisy25)"
   ]
  },
  {
   "cell_type": "code",
   "execution_count": null,
   "metadata": {},
   "outputs": [],
   "source": [
    "ds_precomputed = dataset.PreComputedTestDataset(PATH_ORIGINAL, PATH_NOISY)"
   ]
  },
  {
   "cell_type": "markdown",
   "metadata": {},
   "source": [
    "## Load model"
   ]
  },
  {
   "cell_type": "code",
   "execution_count": null,
   "metadata": {},
   "outputs": [],
   "source": [
    "ckpt_path_list = utils.find_all_ckpt_files(MODEL_PATH)\n",
    "ckpt_path = utils.get_ckpt(ckpt_path_list)"
   ]
  },
  {
   "cell_type": "code",
   "execution_count": null,
   "metadata": {},
   "outputs": [],
   "source": [
    "model = dncnn.DnCNNModule.load_from_checkpoint(ckpt_path)\n",
    "\n",
    "model.eval()\n",
    "model.freeze()\n",
    "\n",
    "model.to(\"cpu\")"
   ]
  },
  {
   "cell_type": "markdown",
   "metadata": {},
   "source": [
    "## Evaluation"
   ]
  },
  {
   "cell_type": "code",
   "execution_count": null,
   "metadata": {},
   "outputs": [],
   "source": [
    "psnr = image.PeakSignalNoiseRatio((0, 1), dim=(1, 2, 3), reduction=\"elementwise_mean\")\n",
    "ssim = image.StructuralSimilarityIndexMeasure(data_range=1.0)\n",
    "\n",
    "dl_precomputed = DataLoader(ds_precomputed, batch_size=1, shuffle=False, num_workers=1)\n",
    "\n",
    "delta_images = list()\n",
    "\n",
    "with torch.no_grad():\n",
    "    for original_image, noisy_image in tqdm(dl_precomputed):\n",
    "        noise_estimate = model(noisy_image).cpu()\n",
    "        denoised_image = noisy_image - noise_estimate\n",
    "        denoised_image = torch.clip(denoised_image, 0, 1.0)\n",
    "        delta_image = denoised_image - original_image\n",
    "        psnr.update(denoised_image, original_image)\n",
    "        ssim.update(denoised_image, original_image)\n",
    "        delta_images.append(delta_image)"
   ]
  },
  {
   "cell_type": "code",
   "execution_count": null,
   "metadata": {},
   "outputs": [],
   "source": [
    "psnr.compute()\n",
    "ssim.compute()"
   ]
  },
  {
   "cell_type": "code",
   "execution_count": null,
   "metadata": {},
   "outputs": [],
   "source": [
    "ts.show(original_image)\n",
    "ts.show(noisy_image)\n",
    "ts.show(noise_estimate)\n",
    "ts.show(denoised_image - original_image)"
   ]
  },
  {
   "cell_type": "code",
   "execution_count": null,
   "metadata": {},
   "outputs": [],
   "source": [
    "# deltas = torch.concat(delta_images)\n",
    "\n",
    "ts.show(delta_images[0])\n",
    "ts.show(delta_images[1])"
   ]
  }
 ],
 "metadata": {
  "kernelspec": {
   "display_name": "base",
   "language": "python",
   "name": "python3"
  },
  "language_info": {
   "codemirror_mode": {
    "name": "ipython",
    "version": 3
   },
   "file_extension": ".py",
   "mimetype": "text/x-python",
   "name": "python",
   "nbconvert_exporter": "python",
   "pygments_lexer": "ipython3",
   "version": "undefined.undefined.undefined"
  }
 },
 "nbformat": 4,
 "nbformat_minor": 2
}
