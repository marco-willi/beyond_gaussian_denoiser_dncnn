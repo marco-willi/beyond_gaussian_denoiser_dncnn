{
 "cells": [
  {
   "cell_type": "code",
   "execution_count": null,
   "metadata": {},
   "outputs": [],
   "source": [
    "%load_ext autoreload\n",
    "\n",
    "%autoreload 2\n",
    "\n",
    "from IPython.core.interactiveshell import InteractiveShell\n",
    "\n",
    "InteractiveShell.ast_node_interactivity = \"all\""
   ]
  },
  {
   "cell_type": "markdown",
   "metadata": {},
   "source": [
    "# Dataset"
   ]
  },
  {
   "cell_type": "code",
   "execution_count": null,
   "metadata": {},
   "outputs": [],
   "source": [
    "import os\n",
    "\n",
    "import lightning as L\n",
    "import pyrootutils\n",
    "import torch\n",
    "import torchshow as ts\n",
    "\n",
    "from gaussian_denoiser import data, transforms"
   ]
  },
  {
   "cell_type": "code",
   "execution_count": null,
   "metadata": {},
   "outputs": [],
   "source": [
    "root = pyrootutils.setup_root(\n",
    "    search_from=\".\",\n",
    "    indicator=\"pyproject.toml\",\n",
    "    project_root_env_var=True,\n",
    "    dotenv=True,\n",
    "    pythonpath=False,\n",
    "    cwd=True,\n",
    ")\n",
    "\n",
    "PROJECT_ROOT = os.getenv(\"PROJECT_ROOT\")"
   ]
  },
  {
   "cell_type": "code",
   "execution_count": null,
   "metadata": {},
   "outputs": [],
   "source": [
    "import omegaconf\n",
    "\n",
    "cfg = omegaconf.OmegaConf.load(f\"{PROJECT_ROOT}/config/train.yaml\")"
   ]
  },
  {
   "cell_type": "code",
   "execution_count": null,
   "metadata": {},
   "outputs": [],
   "source": [
    "cfg"
   ]
  },
  {
   "cell_type": "code",
   "execution_count": null,
   "metadata": {},
   "outputs": [],
   "source": [
    "cfg.data.train_path"
   ]
  },
  {
   "cell_type": "code",
   "execution_count": null,
   "metadata": {},
   "outputs": [],
   "source": [
    "L.seed_everything(123, workers=True)"
   ]
  },
  {
   "cell_type": "markdown",
   "metadata": {},
   "source": []
  },
  {
   "cell_type": "markdown",
   "metadata": {},
   "source": [
    "## Test Dataset (Pipeline)"
   ]
  },
  {
   "cell_type": "code",
   "execution_count": null,
   "metadata": {},
   "outputs": [],
   "source": [
    "from gaussian_denoiser.data import DenoisingDataModule, PatchDataset\n",
    "\n",
    "data_module = data.DenoisingDataModule(\n",
    "    train_path=cfg.data.train_path,\n",
    "    val_path=cfg.data.val_path,\n",
    "    test_path=cfg.data.test_path,\n",
    "    batch_size=16,\n",
    "    patch_size=cfg.data.patch_size,\n",
    "    noise_level_interval=cfg.data.noise_level_interval,\n",
    "    validation_noise_level_interval=cfg.data.validation_noise_level_interval,\n",
    ")\n",
    "\n",
    "\n",
    "data_module.setup(\"fit\")"
   ]
  },
  {
   "cell_type": "code",
   "execution_count": null,
   "metadata": {},
   "outputs": [],
   "source": [
    "ds = data_module.train_dataset\n",
    "\n",
    "clean, noisy, noise = ds[0]\n",
    "\n",
    "noisy.shape\n",
    "clean.shape\n",
    "noise.shape"
   ]
  },
  {
   "cell_type": "code",
   "execution_count": null,
   "metadata": {},
   "outputs": [],
   "source": [
    "ds_train = data_module.train_dataloader()\n",
    "clean_batch, noisy_batch, noise_batch = next(iter(ds_train))"
   ]
  },
  {
   "cell_type": "code",
   "execution_count": null,
   "metadata": {},
   "outputs": [],
   "source": [
    "torch.min(noisy_batch)\n",
    "torch.max(noisy_batch)\n",
    "\n",
    "torch.min(clean_batch)\n",
    "torch.max(clean_batch)\n",
    "\n",
    "torch.min(noise_batch)\n",
    "torch.max(noise_batch)"
   ]
  },
  {
   "cell_type": "code",
   "execution_count": null,
   "metadata": {},
   "outputs": [],
   "source": [
    "from torchmetrics.image import PeakSignalNoiseRatio\n",
    "\n",
    "PeakSignalNoiseRatio()\n",
    "\n",
    "psnr = PeakSignalNoiseRatio((0, 1), dim=(1, 2, 3), reduction=\"elementwise_mean\")\n",
    "\n",
    "psnr(noisy_batch, clean_batch).shape\n",
    "psnr(noisy_batch, clean_batch)\n",
    "psnr(noisy_batch[0].unsqueeze(0), clean_batch[0].unsqueeze(0)).shape\n",
    "psnr(noisy_batch[0].unsqueeze(0), clean_batch[0].unsqueeze(0))"
   ]
  }
 ],
 "metadata": {
  "kernelspec": {
   "display_name": "base",
   "language": "python",
   "name": "python3"
  },
  "language_info": {
   "codemirror_mode": {
    "name": "ipython",
    "version": 3
   },
   "file_extension": ".py",
   "mimetype": "text/x-python",
   "name": "python",
   "nbconvert_exporter": "python",
   "pygments_lexer": "ipython3",
   "version": "3.11.9"
  }
 },
 "nbformat": 4,
 "nbformat_minor": 2
}
