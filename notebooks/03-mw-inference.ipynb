{
 "cells": [
  {
   "cell_type": "code",
   "execution_count": null,
   "metadata": {},
   "outputs": [],
   "source": [
    "%load_ext autoreload\n",
    "\n",
    "%autoreload 2\n",
    "\n",
    "from IPython.core.interactiveshell import InteractiveShell\n",
    "\n",
    "InteractiveShell.ast_node_interactivity = \"all\""
   ]
  },
  {
   "cell_type": "markdown",
   "metadata": {},
   "source": [
    "# Inference Tests"
   ]
  },
  {
   "cell_type": "code",
   "execution_count": null,
   "metadata": {},
   "outputs": [],
   "source": [
    "import os\n",
    "from pathlib import Path\n",
    "\n",
    "import omegaconf\n",
    "import pyrootutils\n",
    "import torch\n",
    "import torchshow as ts\n",
    "from PIL import Image\n",
    "from torchvision.transforms import functional as TF\n",
    "\n",
    "from gaussian_denoiser import data, dncnn, transforms, utils"
   ]
  },
  {
   "cell_type": "code",
   "execution_count": null,
   "metadata": {},
   "outputs": [],
   "source": [
    "root = pyrootutils.setup_root(\n",
    "    search_from=\".\",\n",
    "    indicator=\"pyproject.toml\",\n",
    "    project_root_env_var=True,\n",
    "    dotenv=True,\n",
    "    pythonpath=False,\n",
    "    cwd=True,\n",
    ")\n",
    "\n",
    "PROJECT_ROOT = os.getenv(\"PROJECT_ROOT\")"
   ]
  },
  {
   "cell_type": "markdown",
   "metadata": {},
   "source": [
    "## Functions"
   ]
  },
  {
   "cell_type": "code",
   "execution_count": null,
   "metadata": {},
   "outputs": [],
   "source": [
    "def find_all_ckpt_files(directory: Path) -> list[Path]:\n",
    "    # Find all files with .ckpt extension recursively\n",
    "    ckpt_files = list(directory.rglob(\"*.ckpt\"))\n",
    "    return ckpt_files\n",
    "\n",
    "\n",
    "def get_ckpt(ckpt_list: list[Path]):\n",
    "    if ckpt_list:\n",
    "        print(\"Found checkpoint files:\")\n",
    "        for file in ckpt_list:\n",
    "            print(file)\n",
    "    else:\n",
    "        print(\"No checkpoint files found.\")\n",
    "\n",
    "    return ckpt_list[0]"
   ]
  },
  {
   "cell_type": "markdown",
   "metadata": {},
   "source": [
    "## Parameters"
   ]
  },
  {
   "cell_type": "code",
   "execution_count": null,
   "metadata": {},
   "outputs": [],
   "source": [
    "MODEL_PATH = Path(PROJECT_ROOT).joinpath(\"logs/train/2024-08-12_11-42-38\")\n",
    "\n",
    "CFG_PATH = MODEL_PATH.joinpath(\".hydra/config.yaml\")\n",
    "TEST_IMAGE = \"docs/cherry.jpg\"\n",
    "\n",
    "DEVICE = \"cpu\""
   ]
  },
  {
   "cell_type": "code",
   "execution_count": null,
   "metadata": {},
   "outputs": [],
   "source": [
    "cfg = omegaconf.OmegaConf.load(CFG_PATH)"
   ]
  },
  {
   "cell_type": "markdown",
   "metadata": {},
   "source": [
    "# Load Image"
   ]
  },
  {
   "cell_type": "code",
   "execution_count": null,
   "metadata": {},
   "outputs": [],
   "source": [
    "test_image_path = Path(PROJECT_ROOT).joinpath(TEST_IMAGE)\n",
    "\n",
    "test_image = Image.open(test_image_path)\n",
    "\n",
    "test_image.thumbnail((1024, 1024))\n",
    "test_image\n",
    "test_image.size"
   ]
  },
  {
   "cell_type": "markdown",
   "metadata": {},
   "source": [
    "## Preprocess Image"
   ]
  },
  {
   "cell_type": "code",
   "execution_count": null,
   "metadata": {},
   "outputs": [],
   "source": [
    "image_tensor = TF.to_tensor(test_image)"
   ]
  },
  {
   "cell_type": "code",
   "execution_count": null,
   "metadata": {},
   "outputs": [],
   "source": [
    "image_tensor_patches, padding = utils.patchify(image_tensor, patch_size=cfg.data.patch_size)"
   ]
  },
  {
   "cell_type": "code",
   "execution_count": null,
   "metadata": {},
   "outputs": [],
   "source": [
    "image_tensor_patches.shape"
   ]
  },
  {
   "cell_type": "code",
   "execution_count": null,
   "metadata": {},
   "outputs": [],
   "source": [
    "image_tensor_rec = utils.depatchify(\n",
    "    image_tensor_patches, image_tensor.shape, patch_size=cfg.data.patch_size, padding=padding\n",
    ")"
   ]
  },
  {
   "cell_type": "code",
   "execution_count": null,
   "metadata": {},
   "outputs": [],
   "source": [
    "ts.show(image_tensor)"
   ]
  },
  {
   "cell_type": "code",
   "execution_count": null,
   "metadata": {},
   "outputs": [],
   "source": [
    "ts.show(image_tensor_patches)"
   ]
  },
  {
   "cell_type": "code",
   "execution_count": null,
   "metadata": {},
   "outputs": [],
   "source": [
    "ts.show(image_tensor_rec)"
   ]
  },
  {
   "cell_type": "code",
   "execution_count": null,
   "metadata": {},
   "outputs": [],
   "source": [
    "torch.testing.assert_close(image_tensor_rec, image_tensor)"
   ]
  },
  {
   "cell_type": "code",
   "execution_count": null,
   "metadata": {},
   "outputs": [],
   "source": [
    "image_tensor.shape"
   ]
  },
  {
   "cell_type": "code",
   "execution_count": null,
   "metadata": {},
   "outputs": [],
   "source": [
    "image_tensor_rec.shape"
   ]
  },
  {
   "cell_type": "markdown",
   "metadata": {},
   "source": [
    "## Load Model"
   ]
  },
  {
   "cell_type": "code",
   "execution_count": null,
   "metadata": {},
   "outputs": [],
   "source": [
    "ckpt_path_list = find_all_ckpt_files(MODEL_PATH)\n",
    "ckpt_path = get_ckpt(ckpt_path_list)"
   ]
  },
  {
   "cell_type": "code",
   "execution_count": null,
   "metadata": {},
   "outputs": [],
   "source": [
    "model = dncnn.DnCNNModule.load_from_checkpoint(ckpt_path)\n",
    "\n",
    "model.eval()\n",
    "model.freeze()\n",
    "\n",
    "model.to(\"cpu\")"
   ]
  },
  {
   "cell_type": "markdown",
   "metadata": {},
   "source": [
    "## Test inference on full image and patches"
   ]
  },
  {
   "cell_type": "markdown",
   "metadata": {},
   "source": [
    "Full images"
   ]
  },
  {
   "cell_type": "code",
   "execution_count": null,
   "metadata": {},
   "outputs": [],
   "source": [
    "image_tensor_batch = TF.to_tensor(test_image).unsqueeze(0)\n",
    "image_tensor_batch.shape"
   ]
  },
  {
   "cell_type": "code",
   "execution_count": null,
   "metadata": {},
   "outputs": [],
   "source": [
    "model.device"
   ]
  },
  {
   "cell_type": "code",
   "execution_count": null,
   "metadata": {},
   "outputs": [],
   "source": [
    "with torch.no_grad():\n",
    "    tensor_noise_estimate = model(image_tensor_batch).cpu()\n",
    "    tensor_denoised = image_tensor_batch - tensor_noise_estimate\n",
    "    tensor_denoised = torch.clip(tensor_denoised, 0, 1.0).squeeze()"
   ]
  },
  {
   "cell_type": "code",
   "execution_count": null,
   "metadata": {},
   "outputs": [],
   "source": [
    "TF.to_pil_image(tensor_noise_estimate.squeeze(0))\n",
    "\n",
    "ts.show(tensor_noise_estimate)\n",
    "tensor_noise_estimate.min()\n",
    "tensor_noise_estimate.max()"
   ]
  },
  {
   "cell_type": "code",
   "execution_count": null,
   "metadata": {},
   "outputs": [],
   "source": [
    "import torchshow as ts\n",
    "\n",
    "ts.show(image_tensor)\n",
    "ts.show(tensor_denoised)"
   ]
  },
  {
   "cell_type": "markdown",
   "metadata": {},
   "source": [
    "Patches"
   ]
  },
  {
   "cell_type": "code",
   "execution_count": null,
   "metadata": {},
   "outputs": [],
   "source": [
    "with torch.no_grad():\n",
    "    tensor_noise_estimate_patches = model(image_tensor_patches).cpu()\n",
    "    tensor_denoised_patches = image_tensor_patches - tensor_noise_estimate_patches\n",
    "    tensor_denoised_patches = torch.clip(tensor_denoised_patches, 0, 1.0)\n",
    "\n",
    "tensor_denoised_patches = utils.depatchify(\n",
    "    tensor_denoised_patches,\n",
    "    original_size=image_tensor.squeeze(0).shape,\n",
    "    patch_size=cfg.data.patch_size,\n",
    "    padding=padding,\n",
    ")\n",
    "tensor_denoised_patches.shape"
   ]
  },
  {
   "cell_type": "code",
   "execution_count": null,
   "metadata": {},
   "outputs": [],
   "source": [
    "ts.show(image_tensor)\n",
    "ts.show(tensor_denoised_patches)"
   ]
  },
  {
   "cell_type": "code",
   "execution_count": null,
   "metadata": {},
   "outputs": [],
   "source": [
    "torch.testing.assert_close(tensor_denoised, tensor_denoised_patches)"
   ]
  },
  {
   "cell_type": "code",
   "execution_count": null,
   "metadata": {},
   "outputs": [],
   "source": [
    "((image_tensor - tensor_denoised) ** 2).mean()"
   ]
  },
  {
   "cell_type": "code",
   "execution_count": null,
   "metadata": {},
   "outputs": [],
   "source": [
    "from torchmetrics.image.psnr import PeakSignalNoiseRatio\n",
    "\n",
    "psnr = PeakSignalNoiseRatio((0, 1))\n",
    "\n",
    "psnr(image_tensor, tensor_denoised)"
   ]
  },
  {
   "cell_type": "code",
   "execution_count": null,
   "metadata": {},
   "outputs": [],
   "source": [
    "image_denoised = TF.to_pil_image(tensor_denoised.squeeze(0))"
   ]
  },
  {
   "cell_type": "code",
   "execution_count": null,
   "metadata": {},
   "outputs": [],
   "source": [
    "image_denoised"
   ]
  },
  {
   "cell_type": "markdown",
   "metadata": {},
   "source": [
    "## Test with some Noise"
   ]
  },
  {
   "cell_type": "code",
   "execution_count": null,
   "metadata": {},
   "outputs": [],
   "source": [
    "x = TF.to_tensor(test_image)\n",
    "x_noisy = torch.clip(torch.rand_like(x) * 50 / 255.0 + x, 0, 1)"
   ]
  },
  {
   "cell_type": "code",
   "execution_count": null,
   "metadata": {},
   "outputs": [],
   "source": [
    "x_noisy.shape"
   ]
  },
  {
   "cell_type": "code",
   "execution_count": null,
   "metadata": {},
   "outputs": [],
   "source": [
    "model.eval()\n",
    "with torch.no_grad():\n",
    "    noise_estimate = model(x_noisy.unsqueeze(0)).cpu()\n",
    "    x_denoised = x_noisy - noise_estimate.squeeze(0)\n",
    "    x_denoised = torch.clip(x_denoised, 0, 1.0).squeeze()"
   ]
  },
  {
   "cell_type": "code",
   "execution_count": null,
   "metadata": {},
   "outputs": [],
   "source": [
    "ts.show(x)\n",
    "ts.show(x_noisy)\n",
    "ts.show(x - x_noisy)\n",
    "ts.show(x_denoised)"
   ]
  },
  {
   "cell_type": "code",
   "execution_count": null,
   "metadata": {},
   "outputs": [],
   "source": []
  }
 ],
 "metadata": {
  "kernelspec": {
   "display_name": "base",
   "language": "python",
   "name": "python3"
  },
  "language_info": {
   "codemirror_mode": {
    "name": "ipython",
    "version": 3
   },
   "file_extension": ".py",
   "mimetype": "text/x-python",
   "name": "python",
   "nbconvert_exporter": "python",
   "pygments_lexer": "ipython3",
   "version": "3.11.9"
  }
 },
 "nbformat": 4,
 "nbformat_minor": 2
}
