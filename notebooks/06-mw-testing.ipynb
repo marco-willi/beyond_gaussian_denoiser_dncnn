{
 "cells": [
  {
   "cell_type": "code",
   "execution_count": null,
   "metadata": {},
   "outputs": [],
   "source": [
    "%load_ext autoreload\n",
    "\n",
    "%autoreload 2\n",
    "\n",
    "from IPython.core.interactiveshell import InteractiveShell\n",
    "\n",
    "InteractiveShell.ast_node_interactivity = \"all\""
   ]
  },
  {
   "cell_type": "markdown",
   "metadata": {},
   "source": [
    "# Test Model"
   ]
  },
  {
   "cell_type": "code",
   "execution_count": null,
   "metadata": {},
   "outputs": [],
   "source": [
    "import os\n",
    "from pathlib import Path\n",
    "\n",
    "import omegaconf\n",
    "import pyrootutils\n",
    "import torch\n",
    "import torchshow as ts\n",
    "from icecream import ic\n",
    "from PIL import Image\n",
    "from torch.utils.data import DataLoader\n",
    "from torchvision.transforms import functional as TF\n",
    "\n",
    "from gaussian_denoiser import data, dataset, dncnn, transforms, utils"
   ]
  },
  {
   "cell_type": "code",
   "execution_count": null,
   "metadata": {},
   "outputs": [],
   "source": [
    "root = pyrootutils.setup_root(\n",
    "    search_from=\".\",\n",
    "    indicator=\"pyproject.toml\",\n",
    "    project_root_env_var=True,\n",
    "    dotenv=True,\n",
    "    pythonpath=False,\n",
    "    cwd=True,\n",
    ")\n",
    "\n",
    "PROJECT_ROOT = os.getenv(\"PROJECT_ROOT\")"
   ]
  },
  {
   "cell_type": "markdown",
   "metadata": {},
   "source": [
    "## Functions"
   ]
  },
  {
   "cell_type": "code",
   "execution_count": null,
   "metadata": {},
   "outputs": [],
   "source": [
    "def find_all_ckpt_files(directory: Path) -> list[Path]:\n",
    "    # Find all files with .ckpt extension recursively\n",
    "    ckpt_files = list(directory.rglob(\"*.ckpt\"))\n",
    "    return ckpt_files\n",
    "\n",
    "\n",
    "def get_ckpt(ckpt_list: list[Path]):\n",
    "    if ckpt_list:\n",
    "        print(\"Found checkpoint files:\")\n",
    "        for file in ckpt_list:\n",
    "            print(file)\n",
    "    else:\n",
    "        print(\"No checkpoint files found.\")\n",
    "\n",
    "    return ckpt_list[0]"
   ]
  },
  {
   "cell_type": "markdown",
   "metadata": {},
   "source": [
    "## Parameters"
   ]
  },
  {
   "cell_type": "code",
   "execution_count": null,
   "metadata": {},
   "outputs": [],
   "source": [
    "MODEL_PATH = Path(PROJECT_ROOT).joinpath(\"logs/train/CDnCNN-B_2024-08-13_21-00-53\")\n",
    "\n",
    "CFG_PATH = MODEL_PATH.joinpath(\".hydra/config.yaml\")\n",
    "\n",
    "TEST_DATA = Path(PROJECT_ROOT)\n",
    "\n",
    "DEVICE = \"cpu\""
   ]
  },
  {
   "cell_type": "code",
   "execution_count": null,
   "metadata": {},
   "outputs": [],
   "source": [
    "cfg = omegaconf.OmegaConf.load(CFG_PATH)\n",
    "\n",
    "ic(omegaconf.OmegaConf.to_container(cfg))"
   ]
  },
  {
   "cell_type": "code",
   "execution_count": null,
   "metadata": {},
   "outputs": [],
   "source": [
    "torch.manual_seed(123)"
   ]
  },
  {
   "cell_type": "markdown",
   "metadata": {},
   "source": [
    "## Data"
   ]
  },
  {
   "cell_type": "code",
   "execution_count": null,
   "metadata": {},
   "outputs": [],
   "source": [
    "PATH = Path(PROJECT_ROOT).joinpath(cfg.datasets.cbsd68.original_path)"
   ]
  },
  {
   "cell_type": "code",
   "execution_count": null,
   "metadata": {},
   "outputs": [],
   "source": [
    "ds_test = dataset.ImageFolderDataset(path=PATH)\n",
    "\n",
    "\n",
    "ds_test_patch = data.ImagePatchDenoiseDataset(\n",
    "    ds=ds_test,\n",
    "    transform=lambda x: x,\n",
    "    patch_size=cfg.experiment.data.patch_size,\n",
    "    noise_transform=transforms.AWGNOnlyTransform(min_variance=15, max_variance=15),\n",
    ")\n",
    "\n",
    "ds_test_denoise = data.ImageDenoiseDataset(\n",
    "    ds_test, transforms.AWGNOnlyTransform(min_variance=15, max_variance=15)\n",
    ")"
   ]
  },
  {
   "cell_type": "code",
   "execution_count": null,
   "metadata": {},
   "outputs": [],
   "source": [
    "type(ds_test[0])\n",
    "type(ds_test_denoise[0])"
   ]
  },
  {
   "cell_type": "code",
   "execution_count": null,
   "metadata": {},
   "outputs": [],
   "source": [
    "dl = DataLoader(ds_test_denoise, batch_size=1, shuffle=False, num_workers=1)\n",
    "dl_patch = DataLoader(ds_test_patch, batch_size=128, shuffle=False, num_workers=4)"
   ]
  },
  {
   "cell_type": "markdown",
   "metadata": {},
   "source": [
    "Data with pre-computed noisy images:"
   ]
  },
  {
   "cell_type": "code",
   "execution_count": null,
   "metadata": {},
   "outputs": [],
   "source": [
    "PATH_ORIGINAL = Path(PROJECT_ROOT).joinpath(\"data/test/cbsd68/original_png\")\n",
    "PATH_NOISY = Path(PROJECT_ROOT).joinpath(\"data/test/cbsd68/noisy25\")"
   ]
  },
  {
   "cell_type": "code",
   "execution_count": null,
   "metadata": {},
   "outputs": [],
   "source": [
    "ds_precomputed = dataset.PreComputedTestDataset(PATH_ORIGINAL, PATH_NOISY)"
   ]
  },
  {
   "cell_type": "markdown",
   "metadata": {},
   "source": [
    "## Model"
   ]
  },
  {
   "cell_type": "code",
   "execution_count": null,
   "metadata": {},
   "outputs": [],
   "source": [
    "ckpt_path_list = find_all_ckpt_files(MODEL_PATH)\n",
    "ckpt_path = get_ckpt(ckpt_path_list)"
   ]
  },
  {
   "cell_type": "code",
   "execution_count": null,
   "metadata": {},
   "outputs": [],
   "source": [
    "model = dncnn.DnCNNModule.load_from_checkpoint(ckpt_path)\n",
    "\n",
    "model.eval()\n",
    "model.freeze()\n",
    "\n",
    "model.to(\"cpu\")"
   ]
  },
  {
   "cell_type": "markdown",
   "metadata": {},
   "source": [
    "Patch based"
   ]
  },
  {
   "cell_type": "code",
   "execution_count": null,
   "metadata": {},
   "outputs": [],
   "source": [
    "from torchmetrics import image\n",
    "from tqdm.notebook import tqdm\n",
    "\n",
    "psnr = image.PeakSignalNoiseRatio((0, 1), dim=(1, 2, 3), reduction=\"elementwise_mean\")\n",
    "ssim = image.StructuralSimilarityIndexMeasure(data_range=1.0)\n",
    "\n",
    "with torch.no_grad():\n",
    "    for original_image, noisy_image, delta_noise in tqdm(dl_patch):\n",
    "        noise_estimate = model(noisy_image).cpu()\n",
    "        denoised_image = noisy_image - noise_estimate\n",
    "        denoised_image = torch.clip(denoised_image, 0, 1.0)\n",
    "        psnr.update(denoised_image, original_image)\n",
    "        ssim.update(denoised_image, original_image)"
   ]
  },
  {
   "cell_type": "code",
   "execution_count": null,
   "metadata": {},
   "outputs": [],
   "source": [
    "ts.show(x_denoised)\n",
    "ts.show(x)"
   ]
  },
  {
   "cell_type": "code",
   "execution_count": null,
   "metadata": {},
   "outputs": [],
   "source": [
    "psnr.compute()\n",
    "ssim.compute()"
   ]
  },
  {
   "cell_type": "markdown",
   "metadata": {},
   "source": [
    "Image based"
   ]
  },
  {
   "cell_type": "code",
   "execution_count": null,
   "metadata": {},
   "outputs": [],
   "source": [
    "from torchmetrics import image\n",
    "from tqdm.notebook import tqdm\n",
    "\n",
    "psnr = image.PeakSignalNoiseRatio((0, 1), dim=(1, 2, 3), reduction=\"elementwise_mean\")\n",
    "ssim = image.StructuralSimilarityIndexMeasure(data_range=1.0)\n",
    "\n",
    "with torch.no_grad():\n",
    "    for original_image, noisy_image, delta_noise in tqdm(dl):\n",
    "        noise_estimate = model(noisy_image).cpu()\n",
    "        denoised_image = noisy_image - noise_estimate\n",
    "        denoised_image = torch.clip(denoised_image, 0, 1.0)\n",
    "        psnr.update(denoised_image, original_image)\n",
    "        ssim.update(denoised_image, original_image)"
   ]
  },
  {
   "cell_type": "code",
   "execution_count": null,
   "metadata": {},
   "outputs": [],
   "source": [
    "psnr.compute()"
   ]
  },
  {
   "cell_type": "code",
   "execution_count": null,
   "metadata": {},
   "outputs": [],
   "source": [
    "ssim.compute()"
   ]
  },
  {
   "cell_type": "code",
   "execution_count": null,
   "metadata": {},
   "outputs": [],
   "source": [
    "TF.to_pil_image(original_image.squeeze())"
   ]
  },
  {
   "cell_type": "code",
   "execution_count": null,
   "metadata": {},
   "outputs": [],
   "source": [
    "TF.to_pil_image(noisy_image.squeeze())"
   ]
  },
  {
   "cell_type": "code",
   "execution_count": null,
   "metadata": {},
   "outputs": [],
   "source": [
    "TF.to_pil_image(denoised_image.squeeze())"
   ]
  },
  {
   "cell_type": "code",
   "execution_count": null,
   "metadata": {},
   "outputs": [],
   "source": [
    "ts.show(denoised_image - original_image)"
   ]
  },
  {
   "cell_type": "code",
   "execution_count": null,
   "metadata": {},
   "outputs": [],
   "source": [
    "ts.show(delta_noise)"
   ]
  },
  {
   "cell_type": "markdown",
   "metadata": {},
   "source": [
    "## Evaluate Pre-Computed Testset"
   ]
  },
  {
   "cell_type": "code",
   "execution_count": null,
   "metadata": {},
   "outputs": [],
   "source": [
    "psnr = image.PeakSignalNoiseRatio((0, 1), dim=(1, 2, 3), reduction=\"elementwise_mean\")\n",
    "ssim = image.StructuralSimilarityIndexMeasure(data_range=1.0)\n",
    "\n",
    "dl_precomputed = DataLoader(ds_precomputed, batch_size=1, shuffle=False, num_workers=1)\n",
    "\n",
    "with torch.no_grad():\n",
    "    for original_image, noisy_image in tqdm(dl_precomputed):\n",
    "        noise_estimate = model(noisy_image).cpu()\n",
    "        denoised_image = noisy_image - noise_estimate\n",
    "        denoised_image = torch.clip(denoised_image, 0, 1.0)\n",
    "        psnr.update(denoised_image, original_image)\n",
    "        ssim.update(denoised_image, original_image)"
   ]
  },
  {
   "cell_type": "code",
   "execution_count": null,
   "metadata": {},
   "outputs": [],
   "source": [
    "ts.show(original_image)\n",
    "ts.show(noisy_image)\n",
    "ts.show(denoised_image)\n",
    "ts.show(original_image - denoised_image)"
   ]
  },
  {
   "cell_type": "code",
   "execution_count": null,
   "metadata": {},
   "outputs": [],
   "source": [
    "psnr.compute()\n",
    "ssim.compute()"
   ]
  }
 ],
 "metadata": {
  "kernelspec": {
   "display_name": "base",
   "language": "python",
   "name": "python3"
  },
  "language_info": {
   "codemirror_mode": {
    "name": "ipython",
    "version": 3
   },
   "file_extension": ".py",
   "mimetype": "text/x-python",
   "name": "python",
   "nbconvert_exporter": "python",
   "pygments_lexer": "ipython3",
   "version": "3.11.9"
  }
 },
 "nbformat": 4,
 "nbformat_minor": 2
}
